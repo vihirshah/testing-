{
  "cells": [
    {
      "cell_type": "markdown",
      "metadata": {
        "id": "view-in-github",
        "colab_type": "text"
      },
      "source": [
        "<a href=\"https://colab.research.google.com/github/vihirshah/testing-/blob/main/ClimateChangeDashboard.ipynb\" target=\"_parent\"><img src=\"https://colab.research.google.com/assets/colab-badge.svg\" alt=\"Open In Colab\"/></a>"
      ]
    },
    {
      "cell_type": "code",
      "execution_count": null,
      "metadata": {
        "id": "b2qN4P1bfrBB",
        "colab": {
          "base_uri": "https://localhost:8080/"
        },
        "outputId": "074f19b3-9dbd-4fb1-fd5d-e64f0f3cef8b"
      },
      "outputs": [
        {
          "output_type": "stream",
          "name": "stdout",
          "text": [
            "Requirement already satisfied: flask in /usr/local/lib/python3.10/dist-packages (3.0.3)\n",
            "Requirement already satisfied: pyngrok in /usr/local/lib/python3.10/dist-packages (7.2.1)\n",
            "Requirement already satisfied: matplotlib in /usr/local/lib/python3.10/dist-packages (3.8.0)\n",
            "Requirement already satisfied: pandas in /usr/local/lib/python3.10/dist-packages (2.2.2)\n",
            "Requirement already satisfied: Werkzeug>=3.0.0 in /usr/local/lib/python3.10/dist-packages (from flask) (3.1.3)\n",
            "Requirement already satisfied: Jinja2>=3.1.2 in /usr/local/lib/python3.10/dist-packages (from flask) (3.1.4)\n",
            "Requirement already satisfied: itsdangerous>=2.1.2 in /usr/local/lib/python3.10/dist-packages (from flask) (2.2.0)\n",
            "Requirement already satisfied: click>=8.1.3 in /usr/local/lib/python3.10/dist-packages (from flask) (8.1.7)\n",
            "Requirement already satisfied: blinker>=1.6.2 in /usr/local/lib/python3.10/dist-packages (from flask) (1.9.0)\n",
            "Requirement already satisfied: PyYAML>=5.1 in /usr/local/lib/python3.10/dist-packages (from pyngrok) (6.0.2)\n",
            "Requirement already satisfied: contourpy>=1.0.1 in /usr/local/lib/python3.10/dist-packages (from matplotlib) (1.3.1)\n",
            "Requirement already satisfied: cycler>=0.10 in /usr/local/lib/python3.10/dist-packages (from matplotlib) (0.12.1)\n",
            "Requirement already satisfied: fonttools>=4.22.0 in /usr/local/lib/python3.10/dist-packages (from matplotlib) (4.55.0)\n",
            "Requirement already satisfied: kiwisolver>=1.0.1 in /usr/local/lib/python3.10/dist-packages (from matplotlib) (1.4.7)\n",
            "Requirement already satisfied: numpy<2,>=1.21 in /usr/local/lib/python3.10/dist-packages (from matplotlib) (1.26.4)\n",
            "Requirement already satisfied: packaging>=20.0 in /usr/local/lib/python3.10/dist-packages (from matplotlib) (24.2)\n",
            "Requirement already satisfied: pillow>=6.2.0 in /usr/local/lib/python3.10/dist-packages (from matplotlib) (11.0.0)\n",
            "Requirement already satisfied: pyparsing>=2.3.1 in /usr/local/lib/python3.10/dist-packages (from matplotlib) (3.2.0)\n",
            "Requirement already satisfied: python-dateutil>=2.7 in /usr/local/lib/python3.10/dist-packages (from matplotlib) (2.8.2)\n",
            "Requirement already satisfied: pytz>=2020.1 in /usr/local/lib/python3.10/dist-packages (from pandas) (2024.2)\n",
            "Requirement already satisfied: tzdata>=2022.7 in /usr/local/lib/python3.10/dist-packages (from pandas) (2024.2)\n",
            "Requirement already satisfied: MarkupSafe>=2.0 in /usr/local/lib/python3.10/dist-packages (from Jinja2>=3.1.2->flask) (3.0.2)\n",
            "Requirement already satisfied: six>=1.5 in /usr/local/lib/python3.10/dist-packages (from python-dateutil>=2.7->matplotlib) (1.16.0)\n"
          ]
        }
      ],
      "source": [
        "!pip install flask pyngrok matplotlib pandas"
      ]
    },
    {
      "cell_type": "code",
      "execution_count": null,
      "metadata": {
        "id": "-CbGXxS9frMB"
      },
      "outputs": [],
      "source": [
        "from flask import Flask, render_template_string, request, jsonify\n",
        "from pyngrok import ngrok\n",
        "import matplotlib.pyplot as plt\n",
        "import pandas as pd\n",
        "import io\n",
        "import base64"
      ]
    },
    {
      "cell_type": "code",
      "execution_count": null,
      "metadata": {
        "id": "b1NaZwibfrU3"
      },
      "outputs": [],
      "source": [
        "app = Flask(__name__)"
      ]
    },
    {
      "cell_type": "code",
      "source": [
        "from google.colab import drive\n",
        "drive.mount('/content/gdrive')"
      ],
      "metadata": {
        "colab": {
          "base_uri": "https://localhost:8080/"
        },
        "id": "3julmj-i6Mby",
        "outputId": "b0aa5a18-372d-40e2-9d92-1c8ffbb942da"
      },
      "execution_count": null,
      "outputs": [
        {
          "output_type": "stream",
          "name": "stdout",
          "text": [
            "Drive already mounted at /content/gdrive; to attempt to forcibly remount, call drive.mount(\"/content/gdrive\", force_remount=True).\n"
          ]
        }
      ]
    },
    {
      "cell_type": "code",
      "execution_count": null,
      "metadata": {
        "id": "k8AV1Za2frdZ"
      },
      "outputs": [],
      "source": [
        "file_path = '/content/gdrive/MyDrive/python/climate_change_indicators.csv'\n",
        "\n",
        "# Load data into a pandas DataFrame\n",
        "df = pd.read_csv(file_path)\n"
      ]
    },
    {
      "cell_type": "code",
      "execution_count": null,
      "metadata": {
        "id": "pLGm9dbcfroS",
        "colab": {
          "base_uri": "https://localhost:8080/"
        },
        "outputId": "4c95fd42-2eef-4b59-a8e6-c1ca65b8e15e"
      },
      "outputs": [
        {
          "output_type": "stream",
          "name": "stdout",
          "text": [
            "Authtoken saved to configuration file: /root/.config/ngrok/ngrok.yml\n"
          ]
        }
      ],
      "source": [
        "!ngrok authtoken 2pevURo0F82PRQgvKPqblufURRE_2Z1eQgdzdpa5cajvTH7mA\n"
      ]
    },
    {
      "cell_type": "code",
      "execution_count": null,
      "metadata": {
        "id": "jW7g0n1Ifrq4"
      },
      "outputs": [],
      "source": [
        "def start_ngrok():\n",
        "    public_url = ngrok.connect(5000)\n",
        "    print(f\"Public URL: {public_url}\")\n",
        "    return public_url"
      ]
    },
    {
      "cell_type": "code",
      "execution_count": null,
      "metadata": {
        "id": "-IpoxHoSfrj9"
      },
      "outputs": [],
      "source": [
        "from flask import Flask, render_template_string, request, jsonify\n",
        "import pandas as pd\n",
        "import matplotlib.pyplot as plt\n",
        "import io\n",
        "import base64\n",
        "\n",
        "app = Flask(__name__)\n",
        "\n",
        "\n",
        "@app.route('/')\n",
        "def home():\n",
        "    # Get the list of years from 1960 to 2000 (assuming the columns are in the format F1960, F1961, ..., F2000)\n",
        "    years = [str(year) for year in range(1961, 2023)]  # 1961 to 2023\n",
        "    countries = df['Country'].unique().tolist()\n",
        "\n",
        "    # HTML content for the dashboard\n",
        "    html_content = \"\"\"\n",
        "    <!DOCTYPE html>\n",
        "    <html lang=\"en\">\n",
        "    <head>\n",
        "        <meta charset=\"UTF-8\">\n",
        "        <meta name=\"viewport\" content=\"width=device-width, initial-scale=1.0\">\n",
        "        <title>Climate Change Dashboard</title>\n",
        "        <link rel=\"stylesheet\" href=\"https://cdnjs.cloudflare.com/ajax/libs/bootstrap/5.3.0/css/bootstrap.min.css\">\n",
        "        <script src=\"https://cdnjs.cloudflare.com/ajax/libs/jquery/3.6.0/jquery.min.js\"></script>\n",
        "    </head>\n",
        "    <body style=\"background-image: url('/content/gdrive/MyDrive/python/image123.jpeg'); background-size: cover; background-position: center; height: 100vh; padding: 100px; border-radius: 10px;\">\n",
        "        <div class=\"container mt-5\">\n",
        "            <h1 class=\"text-center\">Climate Change Dashboard</h1>\n",
        "            <div class=\"row my-4\">\n",
        "                <div class=\"col-md-6\">\n",
        "                    <label for=\"startYearSelect\" class=\"form-label\">Select Start Year:</label>\n",
        "                    <select id=\"startYearSelect\" class=\"form-select\">\n",
        "                        {% for year in years %}\n",
        "                            <option value=\"{{ year }}\">{{ year }}</option>\n",
        "                        {% endfor %}\n",
        "                    </select>\n",
        "                </div>\n",
        "                <div class=\"col-md-6\">\n",
        "                    <label for=\"endYearSelect\" class=\"form-label\">Select End Year:</label>\n",
        "                    <select id=\"endYearSelect\" class=\"form-select\">\n",
        "                        {% for year in years %}\n",
        "                            <option value=\"{{ year }}\">{{ year }}</option>\n",
        "                        {% endfor %}\n",
        "                    </select>\n",
        "                </div>\n",
        "            </div>\n",
        "            <div class=\"row my-4\">\n",
        "                <div class=\"col-md-6\">\n",
        "                    <label for=\"countrySelect\" class=\"form-label\">Select Country:</label>\n",
        "                    <select id=\"countrySelect\" class=\"form-select\">\n",
        "                        {% for country in countries %}\n",
        "                            <option value=\"{{ country }}\">{{ country }}</option>\n",
        "                        {% endfor %}\n",
        "                    </select>\n",
        "                </div>\n",
        "            </div>\n",
        "            <button id=\"generatePlot\" class=\"btn btn-primary\">Generate Plot</button>\n",
        "            <div id=\"chart\" class=\"mt-5 text-center\">\n",
        "                <!-- Plot will be displayed here -->\n",
        "            </div>\n",
        "        </div>\n",
        "\n",
        "        <script>\n",
        "            $(document).ready(function () {\n",
        "                // Handle plot generation on button click\n",
        "                $('#generatePlot').click(function () {\n",
        "                    const selectedStartYear = $('#startYearSelect').val();\n",
        "                    const selectedEndYear = $('#endYearSelect').val();\n",
        "                    const selectedCountry = $('#countrySelect').val();\n",
        "\n",
        "                    // AJAX request to generate plot\n",
        "                    $.post('/generate_plot', { start_year: selectedStartYear, end_year: selectedEndYear, country: selectedCountry }, function (data) {\n",
        "                        $('#chart').html(`<img src=\"data:image/png;base64,${data.plot_data}\" alt=\"Temperature Plot\" class=\"img-fluid\">`);\n",
        "                    }).fail(function (error) {\n",
        "                        alert(error.responseJSON.error);\n",
        "                    });\n",
        "                });\n",
        "            });\n",
        "        </script>\n",
        "    </body>\n",
        "    </html>\n",
        "    \"\"\"\n",
        "\n",
        "    return render_template_string(html_content, years=years, countries=countries)\n",
        "\n",
        "\n",
        "@app.route('/generate_plot', methods=['POST'])\n",
        "def generate_plot():\n",
        "    # Get the start year, end year, and country from the request\n",
        "    start_year = int(request.form['start_year'])\n",
        "    end_year = int(request.form['end_year'])\n",
        "    selected_country = request.form['country']\n",
        "\n",
        "    # Filter the DataFrame based on the selected country\n",
        "    country_data = df[df['Country'] == selected_country]\n",
        "\n",
        "    # Extract temperature changes for the selected country within the selected year range\n",
        "    years = [str(year) for year in range(start_year, end_year + 1)]  # Get years in the selected range\n",
        "    temperature_changes = [country_data[f'F{year}'].values[0] for year in years if f'F{year}' in country_data.columns]\n",
        "\n",
        "    # Check if we have valid data for the selected range\n",
        "    if len(temperature_changes) == 0:\n",
        "        return jsonify({'error': 'No data available for the selected range and country'}), 400\n",
        "\n",
        "    # Plot the data for the selected country and year range\n",
        "    plt.figure(figsize=(10, 6))\n",
        "    plt.plot(years, temperature_changes, marker='o', linestyle='-', color='b')\n",
        "    plt.title(f'Temperature Change for {selected_country} ({start_year}-{end_year})')\n",
        "    plt.xlabel('Year')\n",
        "    plt.ylabel('Temperature Change (°C)')\n",
        "    plt.xticks(rotation=45)\n",
        "\n",
        "    # Save the plot to a PNG image in memory\n",
        "    img = io.BytesIO()\n",
        "    plt.savefig(img, format='png')\n",
        "    img.seek(0)\n",
        "    plot_data = base64.b64encode(img.read()).decode('utf-8')\n",
        "    plt.close()\n",
        "\n",
        "    # Return the plot as base64-encoded image data\n",
        "    return jsonify({'plot_data': plot_data})\n",
        "\n",
        "\n",
        "\n"
      ]
    },
    {
      "cell_type": "code",
      "source": [],
      "metadata": {
        "id": "2RQQywD8VCCo"
      },
      "execution_count": null,
      "outputs": []
    },
    {
      "cell_type": "code",
      "execution_count": null,
      "metadata": {
        "colab": {
          "base_uri": "https://localhost:8080/"
        },
        "outputId": "c62ffb85-40b0-4fa7-e3cd-8c02c1f5592e",
        "id": "M63u0oCYVCdn"
      },
      "outputs": [
        {
          "output_type": "stream",
          "name": "stdout",
          "text": [
            "Public URL: NgrokTunnel: \"https://0a66-35-221-162-19.ngrok-free.app\" -> \"http://localhost:5000\"\n",
            " * Serving Flask app '__main__'\n",
            " * Debug mode: off\n"
          ]
        },
        {
          "output_type": "stream",
          "name": "stderr",
          "text": [
            "INFO:werkzeug:\u001b[31m\u001b[1mWARNING: This is a development server. Do not use it in a production deployment. Use a production WSGI server instead.\u001b[0m\n",
            " * Running on http://127.0.0.1:5000\n",
            "INFO:werkzeug:\u001b[33mPress CTRL+C to quit\u001b[0m\n"
          ]
        }
      ],
      "source": [
        "if __name__ == \"__main__\":\n",
        "    start_ngrok()  # Start ngrok to expose Flask app\n",
        "    app.run()"
      ]
    },
    {
      "cell_type": "code",
      "execution_count": null,
      "metadata": {
        "id": "p1QKBVzQfrvz"
      },
      "outputs": [],
      "source": [
        "from flask import Flask, render_template_string, request, jsonify\n",
        "import pandas as pd\n",
        "import matplotlib.pyplot as plt\n",
        "import io\n",
        "import base64\n",
        "\n",
        "app = Flask(__name__)\n",
        "\n",
        "\n",
        "@app.route('/')\n",
        "def home():\n",
        "    years = [str(year) for year in range(1961, 2023)]  # Adjust years as needed\n",
        "    countries = df['Country'].unique().tolist()\n",
        "\n",
        "    # HTML content for the dashboard\n",
        "    html_content = \"\"\"\n",
        "    <!DOCTYPE html>\n",
        "    <html lang=\"en\">\n",
        "    <head>\n",
        "        <meta charset=\"UTF-8\">\n",
        "        <meta name=\"viewport\" content=\"width=device-width, initial-scale=1.0\">\n",
        "        <title>Climate Change Dashboard</title>\n",
        "        <link rel=\"stylesheet\" href=\"https://cdnjs.cloudflare.com/ajax/libs/bootstrap/5.3.0/css/bootstrap.min.css\">\n",
        "        <script src=\"https://cdnjs.cloudflare.com/ajax/libs/jquery/3.6.0/jquery.min.js\"></script>\n",
        "    </head>\n",
        "    <body style=\"background-image: url('your_image_path_here.png'); background-size: cover; background-position: center; height: 100vh; padding: 100px; border-radius: 10px;\">\n",
        "        <div class=\"container mt-5\">\n",
        "            <h1 class=\"text-center\">Climate Change Dashboard</h1>\n",
        "\n",
        "            <!-- Select start and end year -->\n",
        "            <div class=\"row my-4\">\n",
        "                <div class=\"col-md-6\">\n",
        "                    <label for=\"startYearSelect\" class=\"form-label\">Select Start Year:</label>\n",
        "                    <select id=\"startYearSelect\" class=\"form-select\">\n",
        "                        {% for year in years %}\n",
        "                            <option value=\"{{ year }}\">{{ year }}</option>\n",
        "                        {% endfor %}\n",
        "                    </select>\n",
        "                </div>\n",
        "                <div class=\"col-md-6\">\n",
        "                    <label for=\"endYearSelect\" class=\"form-label\">Select End Year:</label>\n",
        "                    <select id=\"endYearSelect\" class=\"form-select\">\n",
        "                        {% for year in years %}\n",
        "                            <option value=\"{{ year }}\">{{ year }}</option>\n",
        "                        {% endfor %}\n",
        "                    </select>\n",
        "                </div>\n",
        "            </div>\n",
        "\n",
        "            <!-- Select countries -->\n",
        "            <div class=\"row my-4\">\n",
        "                <div class=\"col-md-6\">\n",
        "                    <label for=\"countrySelect\" class=\"form-label\">Select Countries:</label>\n",
        "                    <select id=\"countrySelect\" class=\"form-select\"\n",
        "                        {% for country in countries %}\n",
        "                            <option value=\"{{ country }}\">{{ country }}</option>\n",
        "                        {% endfor %}\n",
        "                    </select>\n",
        "                </div>\n",
        "            </div>\n",
        "\n",
        "            <!-- Button to generate plot -->\n",
        "            <button id=\"generatePlot\" class=\"btn btn-primary\">Generate Temperature Plot</button>\n",
        "\n",
        "            <div id=\"chart\" class=\"mt-5 text-center\">\n",
        "                <!-- Plot will be displayed here -->\n",
        "            </div>\n",
        "            <script>\n",
        "                $(document).ready(function () {\n",
        "                    // Handle plot generation on button click\n",
        "                    $('#generatePlot').click(function () {\n",
        "                        const selectedStartYear = $('#startYearSelect').val();\n",
        "                        const selectedEndYear = $('#endYearSelect').val();\n",
        "                        const selectedCountry = $('#countrySelect').val();\n",
        "\n",
        "                        // AJAX request to generate plot\n",
        "                        $.post('/generate_plot', { start_year: selectedStartYear, end_year: selectedEndYear, country: selectedCountry }, function (data) {\n",
        "                            $('#chart').html(`<img src=\"data:image/png;base64,${data.plot_data}\" alt=\"Temperature Plot\" class=\"img-fluid\">`);\n",
        "                        }).fail(function (error) {\n",
        "                            alert(error.responseJSON.error);\n",
        "                        });\n",
        "                    });\n",
        "                });\n",
        "            </script>\n",
        "\n",
        "            <!-- Select year for top 10 hottest countries -->\n",
        "            <div class=\"row my-4\">\n",
        "                <div class=\"col-md-6\">\n",
        "                    <label for=\"yearSelect\" class=\"form-label\">Select Year for Top 10 Hottest Countries:</label>\n",
        "                    <select id=\"yearSelect\" class=\"form-select\">\n",
        "                        {% for year in years %}\n",
        "                            <option value=\"{{ year }}\">{{ year }}</option>\n",
        "                        {% endfor %}\n",
        "                    </select>\n",
        "                </div>\n",
        "            </div>\n",
        "\n",
        "            <!-- Button to generate top 10 chart -->\n",
        "            <button id=\"generateTop10Chart\" class=\"btn btn-success\">Generate Top 10 Hottest Countries Chart</button>\n",
        "\n",
        "            <div id=\"top10Chart\" class=\"mt-5 text-center\">\n",
        "                <!-- Top 10 Hottest Countries chart will be displayed here -->\n",
        "            </div>\n",
        "        </div>\n",
        "\n",
        "        <script>\n",
        "            $(document).ready(function () {\n",
        "                // Handle temperature change plot generation\n",
        "                $('#generatePlot').click(function () {\n",
        "                    const selectedStartYear = $('#startYearSelect').val();\n",
        "                    const selectedEndYear = $('#endYearSelect').val();\n",
        "                    const selectedCountries = $('#countrySelect').val();  // Get selected countries\n",
        "\n",
        "                    // Send data to backend\n",
        "                    $.post('/generate_plot', {\n",
        "                        start_year: selectedStartYear,\n",
        "                        end_year: selectedEndYear,\n",
        "                        countries: selectedCountries\n",
        "                    }, function (data) {\n",
        "                        if (data.plot_data) {\n",
        "                            $('#chart').html(`<img src=\"data:image/png;base64,${data.plot_data}\" alt=\"Temperature Plot\" class=\"img-fluid\">`);\n",
        "                        } else {\n",
        "                            alert('Error: ' + data.error);\n",
        "                        }\n",
        "                    }).fail(function (error) {\n",
        "                        alert('Error: ' + error.responseJSON.error);\n",
        "                    });\n",
        "                });\n",
        "\n",
        "                // Handle Top 10 hottest countries chart generation\n",
        "                $('#generateTop10Chart').click(function () {\n",
        "                    const selectedYear = $('#yearSelect').val();\n",
        "\n",
        "                    // Send request to backend\n",
        "                    $.post('/generate_top10', { year: selectedYear }, function (data) {\n",
        "                        if (data.plot_data) {\n",
        "                            $('#top10Chart').html(`<img src=\"data:image/png;base64,${data.plot_data}\" alt=\"Top 10 Hottest Countries Chart\" class=\"img-fluid\">`);\n",
        "                        } else {\n",
        "                            alert('Error: ' + data.error);\n",
        "                        }\n",
        "                    }).fail(function (error) {\n",
        "                        alert('Error: ' + error.responseJSON.error);\n",
        "                    });\n",
        "                });\n",
        "            });\n",
        "        </script>\n",
        "    </body>\n",
        "    </html>\n",
        "    \"\"\"\n",
        "\n",
        "    return render_template_string(html_content, years=years, countries=countries)\n",
        "\n",
        "\n",
        "@app.route('/generate_plot', methods=['POST'])\n",
        "def generate_plot():\n",
        "    # Get the start year, end year, and country from the request\n",
        "    start_year = int(request.form['start_year'])\n",
        "    end_year = int(request.form['end_year'])\n",
        "    selected_country = request.form['country']\n",
        "\n",
        "    # Filter the DataFrame based on the selected country\n",
        "    country_data = df[df['Country'] == selected_country]\n",
        "\n",
        "    # Extract temperature changes for the selected country within the selected year range\n",
        "    years = [str(year) for year in range(start_year, end_year + 1)]  # Get years in the selected range\n",
        "    temperature_changes = [country_data[f'F{year}'].values[0] for year in years if f'F{year}' in country_data.columns]\n",
        "\n",
        "    # Check if we have valid data for the selected range\n",
        "    if len(temperature_changes) == 0:\n",
        "        return jsonify({'error': 'No data available for the selected range and country'}), 400\n",
        "\n",
        "    # Plot the data for the selected country and year range\n",
        "    plt.figure(figsize=(15, 6))\n",
        "    plt.plot(years, temperature_changes, marker='o', linestyle='-', color='b')\n",
        "    plt.title(f'Temperature Change for {selected_country} ({start_year}-{end_year})')\n",
        "    plt.xlabel('Year')\n",
        "    plt.ylabel('Temperature Change (°C)')\n",
        "    plt.xticks(rotation=45, ha='right')\n",
        "    plt.tight_layout()\n",
        "\n",
        "    # Save the plot to a PNG image in memory\n",
        "    img = io.BytesIO()\n",
        "    plt.savefig(img, format='png')\n",
        "    img.seek(0)\n",
        "    plot_data = base64.b64encode(img.read()).decode('utf-8')\n",
        "    plt.close()\n",
        "\n",
        "    # Return the plot as base64-encoded image data\n",
        "    return jsonify({'plot_data': plot_data})\n",
        "\n",
        "\n",
        "    return jsonify({'error': 'An error occurred while generating the plot'}), 500\n",
        "\n",
        "\n",
        "@app.route('/generate_top10', methods=['POST'])\n",
        "def generate_top10():\n",
        "    try:\n",
        "        # Get selected year from request\n",
        "        year = int(request.form['year'])\n",
        "\n",
        "        # Ensure the year exists in the dataset\n",
        "        if f'F{year}' not in df.columns:\n",
        "            return jsonify({'error': f'No data available for the year {year}'}), 400\n",
        "\n",
        "        # Calculate average temperature change for each country\n",
        "        df_year = df[['Country', f'F{year}']].dropna()  # Drop countries with missing data\n",
        "        df_year['Avg_Temperature_Change'] = df_year[f'F{year}']\n",
        "\n",
        "        # Sort and get the top 10 hottest countries\n",
        "        top_10 = df_year.sort_values('Avg_Temperature_Change', ascending=False).head(10)\n",
        "\n",
        "        # Create the bar chart\n",
        "        plt.figure(figsize=(10, 6))\n",
        "        plt.bar(top_10['Country'], top_10['Avg_Temperature_Change'], color='tomato')\n",
        "        plt.title(f'Top 10 Hottest Countries in {year}')\n",
        "        plt.xlabel('Country')\n",
        "        plt.ylabel('Temperature Change (°C)')\n",
        "\n",
        "        plt.xticks(rotation=45, ha='right')  # Rotate and align x-axis labels\n",
        "        plt.tight_layout()\n",
        "\n",
        "        # Save the plot to PNG image in memory\n",
        "        img = io.BytesIO()\n",
        "        plt.savefig(img, format='png')\n",
        "        img.seek(0)\n",
        "        plot_data = base64.b64encode(img.read()).decode('utf-8')\n",
        "        plt.close()\n",
        "\n",
        "        # Return the chart as base64-encoded image\n",
        "        return jsonify({'plot_data': plot_data})\n",
        "\n",
        "    except Exception as e:\n",
        "        return jsonify({'error': 'An error occurred while generating the chart'}), 500\n",
        "\n",
        "\n"
      ]
    },
    {
      "cell_type": "code",
      "execution_count": null,
      "metadata": {
        "colab": {
          "base_uri": "https://localhost:8080/"
        },
        "id": "O3hrH25hfrtl",
        "outputId": "eb1ef1a4-cf27-44ed-c21e-620680ee1a3c"
      },
      "outputs": [
        {
          "output_type": "stream",
          "name": "stdout",
          "text": [
            "Public URL: NgrokTunnel: \"https://7e64-35-221-162-19.ngrok-free.app\" -> \"http://localhost:5000\"\n",
            " * Serving Flask app '__main__'\n",
            " * Debug mode: off\n"
          ]
        },
        {
          "output_type": "stream",
          "name": "stderr",
          "text": [
            "INFO:werkzeug:\u001b[31m\u001b[1mWARNING: This is a development server. Do not use it in a production deployment. Use a production WSGI server instead.\u001b[0m\n",
            " * Running on http://127.0.0.1:5000\n",
            "INFO:werkzeug:\u001b[33mPress CTRL+C to quit\u001b[0m\n"
          ]
        }
      ],
      "source": [
        "if __name__ == \"__main__\":\n",
        "    start_ngrok()  # Start ngrok to expose Flask app\n",
        "    app.run()"
      ]
    },
    {
      "cell_type": "code",
      "execution_count": null,
      "metadata": {
        "id": "j4uOH8hpfrzP"
      },
      "outputs": [],
      "source": []
    }
  ],
  "metadata": {
    "colab": {
      "provenance": [],
      "include_colab_link": true
    },
    "kernelspec": {
      "display_name": "Python 3",
      "name": "python3"
    },
    "language_info": {
      "name": "python"
    }
  },
  "nbformat": 4,
  "nbformat_minor": 0
}